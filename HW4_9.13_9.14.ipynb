{
 "cells": [
  {
   "cell_type": "markdown",
   "metadata": {},
   "source": [
    "# HW4"
   ]
  },
  {
   "cell_type": "markdown",
   "metadata": {
    "vscode": {
     "languageId": "r"
    }
   },
   "source": [
    "### 9.13\n",
    "模拟 $\\phi=0.7$，$\\theta=−0.5$，$\\mu=100$ 的 ARMA(1, 1) 模型。模拟 50 个值，但将最后的 10 个值搁置起来，以对预测值与真实值进行比较。"
   ]
  },
  {
   "cell_type": "code",
   "execution_count": 75,
   "metadata": {
    "vscode": {
     "languageId": "r"
    }
   },
   "outputs": [],
   "source": [
    "set.seed(114514)\n",
    "series = arima.sim(n=50, model=list(ar=0.7, ma=0.5)) + 100 \n",
    "\n",
    "real = series[41:50]\n",
    "series = series[1:40]"
   ]
  },
  {
   "cell_type": "markdown",
   "metadata": {},
   "source": [
    "#### (a)\n",
    "使用序列前 40 个值，求 $\\phi$、$\\theta$ 和 $\\mu$ 的极大似然估计值。  \n",
    "\n",
    "$\\text{Solution.}$"
   ]
  },
  {
   "cell_type": "code",
   "execution_count": 76,
   "metadata": {
    "vscode": {
     "languageId": "r"
    }
   },
   "outputs": [
    {
     "data": {
      "text/plain": [
       "\n",
       "Call:\n",
       "arima(x = series, order = c(1, 0, 1), method = \"ML\")\n",
       "\n",
       "Coefficients:\n",
       "         ar1     ma1  intercept\n",
       "      0.6524  0.9015   100.1296\n",
       "s.e.  0.1202  0.1466     0.7776\n",
       "\n",
       "sigma^2 estimated as 0.9029:  log likelihood = -56.29,  aic = 120.58"
      ]
     },
     "metadata": {},
     "output_type": "display_data"
    }
   ],
   "source": [
    "model = arima(series, order=c(1,0,1), method='ML')\n",
    "model"
   ]
  },
  {
   "cell_type": "markdown",
   "metadata": {},
   "source": [
    "由上可知，$\\hat{\\phi} = \\boxed{0.6524}$ , $\\hat{\\theta} = \\boxed{0.9015}$ , $\\hat{\\mu} = \\boxed{100.1296}$。 \n",
    "\n",
    "除了 $\\hat{\\theta}$ 之外，其他估计值与真实值相差不大。"
   ]
  },
  {
   "cell_type": "markdown",
   "metadata": {},
   "source": [
    "#### (b)\n",
    "使用所估计的模型，预测序列接下来的 10 个值，并画出带 10 个预测值的序列。在估计的序列均值上画一条水平线。  \n",
    "\n",
    "$\\text{Solution.}$"
   ]
  },
  {
   "cell_type": "code",
   "execution_count": 77,
   "metadata": {
    "vscode": {
     "languageId": "r"
    }
   },
   "outputs": [
    {
     "data": {
      "image/png": "[encoded data removed]",
      "text/plain": [
       "Plot with title \"Forecasts from ARIMA(1,0,1) with non-zero mean\""
      ]
     },
     "metadata": {
      "image/png": {
       "height": 420,
       "width": 420
      }
     },
     "output_type": "display_data"
    }
   ],
   "source": [
    "library(forecast)\n",
    "forecast_values = forecast(model, h=10)\n",
    "plot(forecast_values, type='o')\n",
    "points(forecast_values$mean, col='blue',pch=15)\n",
    "abline(h=100.1296, col='black', lwd=2)"
   ]
  },
  {
   "cell_type": "markdown",
   "metadata": {},
   "source": [
    "#### (c)\n",
    "将 10 个预测值与所留出的真实值进行比较。  \n",
    "\n",
    "$\\text{Solution.}$"
   ]
  },
  {
   "cell_type": "code",
   "execution_count": 78,
   "metadata": {
    "vscode": {
     "languageId": "r"
    }
   },
   "outputs": [
    {
     "data": {
      "text/html": [
       "<table class=\"dataframe\">\n",
       "<caption>A Time Series: 10 × 2</caption>\n",
       "<thead>\n",
       "\t<tr><th></th><th scope=col>real</th><th scope=col>pred</th></tr>\n",
       "</thead>\n",
       "<tbody>\n",
       "\t<tr><th scope=row>41</th><td> 99.59074</td><td>100.3477</td></tr>\n",
       "\t<tr><th scope=row>42</th><td> 98.08429</td><td>100.2719</td></tr>\n",
       "\t<tr><th scope=row>43</th><td> 98.12495</td><td>100.2224</td></tr>\n",
       "\t<tr><th scope=row>44</th><td> 97.55493</td><td>100.1902</td></tr>\n",
       "\t<tr><th scope=row>45</th><td> 97.97085</td><td>100.1691</td></tr>\n",
       "\t<tr><th scope=row>46</th><td> 97.77657</td><td>100.1554</td></tr>\n",
       "\t<tr><th scope=row>47</th><td> 99.95185</td><td>100.1464</td></tr>\n",
       "\t<tr><th scope=row>48</th><td>102.23360</td><td>100.1406</td></tr>\n",
       "\t<tr><th scope=row>49</th><td>100.36248</td><td>100.1368</td></tr>\n",
       "\t<tr><th scope=row>50</th><td>100.45562</td><td>100.1343</td></tr>\n",
       "</tbody>\n",
       "</table>\n"
      ],
      "text/latex": [
       "A Time Series: 10 × 2\n",
       "\\begin{tabular}{r|ll}\n",
       "  & real & pred\\\\\n",
       "\\hline\n",
       "\t41 &  99.59074 & 100.3477\\\\\n",
       "\t42 &  98.08429 & 100.2719\\\\\n",
       "\t43 &  98.12495 & 100.2224\\\\\n",
       "\t44 &  97.55493 & 100.1902\\\\\n",
       "\t45 &  97.97085 & 100.1691\\\\\n",
       "\t46 &  97.77657 & 100.1554\\\\\n",
       "\t47 &  99.95185 & 100.1464\\\\\n",
       "\t48 & 102.23360 & 100.1406\\\\\n",
       "\t49 & 100.36248 & 100.1368\\\\\n",
       "\t50 & 100.45562 & 100.1343\\\\\n",
       "\\end{tabular}\n"
      ],
      "text/markdown": [
       "\n",
       "A Time Series: 10 × 2\n",
       "\n",
       "| <!--/--> | real | pred |\n",
       "|---|---|---|\n",
       "| 41 |  99.59074 | 100.3477 |\n",
       "| 42 |  98.08429 | 100.2719 |\n",
       "| 43 |  98.12495 | 100.2224 |\n",
       "| 44 |  97.55493 | 100.1902 |\n",
       "| 45 |  97.97085 | 100.1691 |\n",
       "| 46 |  97.77657 | 100.1554 |\n",
       "| 47 |  99.95185 | 100.1464 |\n",
       "| 48 | 102.23360 | 100.1406 |\n",
       "| 49 | 100.36248 | 100.1368 |\n",
       "| 50 | 100.45562 | 100.1343 |\n",
       "\n"
      ],
      "text/plain": [
       "   real      pred    \n",
       "41  99.59074 100.3477\n",
       "42  98.08429 100.2719\n",
       "43  98.12495 100.2224\n",
       "44  97.55493 100.1902\n",
       "45  97.97085 100.1691\n",
       "46  97.77657 100.1554\n",
       "47  99.95185 100.1464\n",
       "48 102.23360 100.1406\n",
       "49 100.36248 100.1368\n",
       "50 100.45562 100.1343"
      ]
     },
     "metadata": {},
     "output_type": "display_data"
    }
   ],
   "source": [
    "pred = forecast_values$mean\n",
    "\n",
    "cbind(real, pred)"
   ]
  },
  {
   "cell_type": "markdown",
   "metadata": {},
   "source": [
    "差别都还可以，不算太大。"
   ]
  },
  {
   "cell_type": "markdown",
   "metadata": {},
   "source": [
    "#### (d)\n",
    "画出预测及其 95% 预测极限。真实值是否落入预测极限的区间？  \n",
    "\n",
    "$\\text{Solution.}$"
   ]
  },
  {
   "cell_type": "code",
   "execution_count": 79,
   "metadata": {
    "vscode": {
     "languageId": "r"
    }
   },
   "outputs": [
    {
     "data": {
      "image/png": "[encoded data removed]",
      "text/plain": [
       "Plot with title \"Forecasts from ARIMA(1,0,1) with non-zero mean\""
      ]
     },
     "metadata": {
      "image/png": {
       "height": 420,
       "width": 420
      }
     },
     "output_type": "display_data"
    }
   ],
   "source": [
    "plot(forecast_values, type='o')\n",
    "points(forecast_values$mean, col='blue',pch=15)\n",
    "points(x=(41:50), y=real, col= 'black',pch=17)\n",
    "abline(h=100.1296, col='black', lwd=3)"
   ]
  },
  {
   "cell_type": "markdown",
   "metadata": {},
   "source": [
    "真实值基本都在预测区间当中。"
   ]
  },
  {
   "cell_type": "markdown",
   "metadata": {},
   "source": [
    "#### (e)\n",
    "用同样的参数值和相同的样本容量，模拟一个新的序列，并重复 (a) 到 (d)。  \n",
    "\n",
    "$\\text{Solution.}$"
   ]
  },
  {
   "cell_type": "code",
   "execution_count": 80,
   "metadata": {
    "vscode": {
     "languageId": "r"
    }
   },
   "outputs": [
    {
     "name": "stdout",
     "output_type": "stream",
     "text": [
      "\n",
      "Call:\n",
      "arima(x = series, order = c(1, 0, 1), method = \"ML\")\n",
      "\n",
      "Coefficients:\n",
      "         ar1     ma1  intercept\n",
      "      0.5480  0.2777    99.5971\n",
      "s.e.  0.1961  0.2350     0.3782\n",
      "\n",
      "sigma^2 estimated as 0.7639:  log likelihood = -51.73,  aic = 111.46\n"
     ]
    },
    {
     "data": {
      "text/html": [
       "<table class=\"dataframe\">\n",
       "<caption>A Time Series: 10 × 2</caption>\n",
       "<thead>\n",
       "\t<tr><th></th><th scope=col>real</th><th scope=col>pred</th></tr>\n",
       "</thead>\n",
       "<tbody>\n",
       "\t<tr><th scope=row>41</th><td>101.02436</td><td>101.09532</td></tr>\n",
       "\t<tr><th scope=row>42</th><td>100.35559</td><td>100.41818</td></tr>\n",
       "\t<tr><th scope=row>43</th><td>101.67953</td><td>100.04708</td></tr>\n",
       "\t<tr><th scope=row>44</th><td>100.26480</td><td> 99.84371</td></tr>\n",
       "\t<tr><th scope=row>45</th><td> 99.24863</td><td> 99.73225</td></tr>\n",
       "\t<tr><th scope=row>46</th><td> 99.05965</td><td> 99.67117</td></tr>\n",
       "\t<tr><th scope=row>47</th><td>100.23960</td><td> 99.63769</td></tr>\n",
       "\t<tr><th scope=row>48</th><td> 99.12448</td><td> 99.61935</td></tr>\n",
       "\t<tr><th scope=row>49</th><td> 98.85758</td><td> 99.60929</td></tr>\n",
       "\t<tr><th scope=row>50</th><td> 99.70334</td><td> 99.60378</td></tr>\n",
       "</tbody>\n",
       "</table>\n"
      ],
      "text/latex": [
       "A Time Series: 10 × 2\n",
       "\\begin{tabular}{r|ll}\n",
       "  & real & pred\\\\\n",
       "\\hline\n",
       "\t41 & 101.02436 & 101.09532\\\\\n",
       "\t42 & 100.35559 & 100.41818\\\\\n",
       "\t43 & 101.67953 & 100.04708\\\\\n",
       "\t44 & 100.26480 &  99.84371\\\\\n",
       "\t45 &  99.24863 &  99.73225\\\\\n",
       "\t46 &  99.05965 &  99.67117\\\\\n",
       "\t47 & 100.23960 &  99.63769\\\\\n",
       "\t48 &  99.12448 &  99.61935\\\\\n",
       "\t49 &  98.85758 &  99.60929\\\\\n",
       "\t50 &  99.70334 &  99.60378\\\\\n",
       "\\end{tabular}\n"
      ],
      "text/markdown": [
       "\n",
       "A Time Series: 10 × 2\n",
       "\n",
       "| <!--/--> | real | pred |\n",
       "|---|---|---|\n",
       "| 41 | 101.02436 | 101.09532 |\n",
       "| 42 | 100.35559 | 100.41818 |\n",
       "| 43 | 101.67953 | 100.04708 |\n",
       "| 44 | 100.26480 |  99.84371 |\n",
       "| 45 |  99.24863 |  99.73225 |\n",
       "| 46 |  99.05965 |  99.67117 |\n",
       "| 47 | 100.23960 |  99.63769 |\n",
       "| 48 |  99.12448 |  99.61935 |\n",
       "| 49 |  98.85758 |  99.60929 |\n",
       "| 50 |  99.70334 |  99.60378 |\n",
       "\n"
      ],
      "text/plain": [
       "   real      pred     \n",
       "41 101.02436 101.09532\n",
       "42 100.35559 100.41818\n",
       "43 101.67953 100.04708\n",
       "44 100.26480  99.84371\n",
       "45  99.24863  99.73225\n",
       "46  99.05965  99.67117\n",
       "47 100.23960  99.63769\n",
       "48  99.12448  99.61935\n",
       "49  98.85758  99.60929\n",
       "50  99.70334  99.60378"
      ]
     },
     "metadata": {},
     "output_type": "display_data"
    },
    {
     "data": {
      "image/png": "[encoded data removed]",
      "text/plain": [
       "Plot with title \"Forecasts from ARIMA(1,0,1) with non-zero mean\""
      ]
     },
     "metadata": {
      "image/png": {
       "height": 420,
       "width": 420
      }
     },
     "output_type": "display_data"
    },
    {
     "data": {
      "image/png": "[encoded data removed]",
      "text/plain": [
       "Plot with title \"Forecasts from ARIMA(1,0,1) with non-zero mean\""
      ]
     },
     "metadata": {
      "image/png": {
       "height": 420,
       "width": 420
      }
     },
     "output_type": "display_data"
    }
   ],
   "source": [
    "set.seed(10086)\n",
    "series = arima.sim(n=50, model=list(ar=0.7, ma=0.5)) + 100\n",
    "real = series[41:50]\n",
    "series = series[1:40]\n",
    "model = arima(series, order=c(1,0,1), method='ML')\n",
    "print(model)\n",
    "\n",
    "forecast_values = forecast(model, h=10)\n",
    "\n",
    "plot(forecast_values, type='o')\n",
    "points(forecast_values$mean, col='blue',pch=15)\n",
    "abline(h=100.1296, col='black', lwd=3)\n",
    "pred = forecast_values$mean\n",
    "\n",
    "cbind(real, pred)\n",
    "\n",
    "plot(forecast_values, type='o')\n",
    "points(forecast_values$mean, col='blue',pch=15)\n",
    "points(x=(41:50), y=real, col= 'black',pch=17)\n",
    "abline(h=100.1296, col='black', lwd=3)\n"
   ]
  },
  {
   "cell_type": "markdown",
   "metadata": {},
   "source": [
    "模拟效果基本与第一次相同。效果都很好。"
   ]
  },
  {
   "cell_type": "markdown",
   "metadata": {},
   "source": [
    "***"
   ]
  },
  {
   "cell_type": "markdown",
   "metadata": {},
   "source": [
    "### 9.14\n",
    "模拟 $\\theta=0.8$，$\\theta_0=0$ 的 IMA(1, 1) 模型。模拟 35 个值，但将最后的 5 个值搁置起来，以对预测值与真实值进行比较。\n"
   ]
  },
  {
   "cell_type": "code",
   "execution_count": 81,
   "metadata": {
    "vscode": {
     "languageId": "r"
    }
   },
   "outputs": [],
   "source": [
    "set.seed(1919810) \n",
    "series = arima.sim(n=35, model=list(order=c(0,1,1), ma=-0.8))[-1]\n",
    "# 去掉第一个值，因为第一个值是常数0\n",
    "real= series[31:35]\n",
    "series = series[1:30]"
   ]
  },
  {
   "cell_type": "markdown",
   "metadata": {
    "vscode": {
     "languageId": "r"
    }
   },
   "source": [
    "#### (a)\n",
    "使用序列前 30 个值，求 $\\theta$ 的极大似然估计值。  \n",
    "\n",
    "$\\text{Solution.}$"
   ]
  },
  {
   "cell_type": "code",
   "execution_count": 82,
   "metadata": {
    "vscode": {
     "languageId": "r"
    }
   },
   "outputs": [
    {
     "data": {
      "text/plain": [
       "\n",
       "Call:\n",
       "arima(x = series, order = c(0, 1, 1), method = \"ML\")\n",
       "\n",
       "Coefficients:\n",
       "         ma1\n",
       "      -0.743\n",
       "s.e.   0.097\n",
       "\n",
       "sigma^2 estimated as 0.8141:  log likelihood = -38.57,  aic = 81.14"
      ]
     },
     "metadata": {},
     "output_type": "display_data"
    }
   ],
   "source": [
    "model = arima(series, order=c(0,1,1), method='ML')\n",
    "model"
   ]
  },
  {
   "cell_type": "markdown",
   "metadata": {
    "vscode": {
     "languageId": "r"
    }
   },
   "source": [
    "由上可知，$\\hat{\\theta} = \\boxed{0.7430}$ 。"
   ]
  },
  {
   "cell_type": "markdown",
   "metadata": {
    "vscode": {
     "languageId": "r"
    }
   },
   "source": [
    "#### (b)\n",
    "使用所估计的模型，预测序列接下来的 5 个值，并画出带 5 个预测值的序列。这些预测值有什么特殊之处吗？  \n",
    "\n",
    "$\\text{Solution.}$"
   ]
  },
  {
   "cell_type": "code",
   "execution_count": 83,
   "metadata": {
    "vscode": {
     "languageId": "r"
    }
   },
   "outputs": [
    {
     "data": {
      "image/png": "[encoded data removed]",
      "text/plain": [
       "Plot with title \"Forecasts from ARIMA(0,1,1)\""
      ]
     },
     "metadata": {
      "image/png": {
       "height": 420,
       "width": 420
      }
     },
     "output_type": "display_data"
    }
   ],
   "source": [
    "library(forecast)\n",
    "forecast_values = forecast(model, h=5)\n",
    "plot(forecast_values, type='o')\n",
    "points(forecast_values$mean, col='blue',pch=15)\n"
   ]
  },
  {
   "cell_type": "markdown",
   "metadata": {},
   "source": [
    "特殊之处在于，这五个预测值似乎并没有什么波动，都保持在水平线之上。"
   ]
  },
  {
   "cell_type": "markdown",
   "metadata": {
    "vscode": {
     "languageId": "r"
    }
   },
   "source": [
    "#### (c)\n",
    "将 5 个预测值与所留出的真实值进行比较。  \n",
    "\n",
    "$\\text{Solution.}$"
   ]
  },
  {
   "cell_type": "code",
   "execution_count": 84,
   "metadata": {
    "vscode": {
     "languageId": "r"
    }
   },
   "outputs": [
    {
     "data": {
      "text/html": [
       "<table class=\"dataframe\">\n",
       "<caption>A Time Series: 5 × 2</caption>\n",
       "<thead>\n",
       "\t<tr><th></th><th scope=col>real</th><th scope=col>pred</th></tr>\n",
       "</thead>\n",
       "<tbody>\n",
       "\t<tr><th scope=row>31</th><td>-0.8370999</td><td>-2.841928</td></tr>\n",
       "\t<tr><th scope=row>32</th><td>-2.4948004</td><td>-2.841928</td></tr>\n",
       "\t<tr><th scope=row>33</th><td>-2.9323672</td><td>-2.841928</td></tr>\n",
       "\t<tr><th scope=row>34</th><td>-2.8074105</td><td>-2.841928</td></tr>\n",
       "\t<tr><th scope=row>35</th><td>-2.5760650</td><td>-2.841928</td></tr>\n",
       "</tbody>\n",
       "</table>\n"
      ],
      "text/latex": [
       "A Time Series: 5 × 2\n",
       "\\begin{tabular}{r|ll}\n",
       "  & real & pred\\\\\n",
       "\\hline\n",
       "\t31 & -0.8370999 & -2.841928\\\\\n",
       "\t32 & -2.4948004 & -2.841928\\\\\n",
       "\t33 & -2.9323672 & -2.841928\\\\\n",
       "\t34 & -2.8074105 & -2.841928\\\\\n",
       "\t35 & -2.5760650 & -2.841928\\\\\n",
       "\\end{tabular}\n"
      ],
      "text/markdown": [
       "\n",
       "A Time Series: 5 × 2\n",
       "\n",
       "| <!--/--> | real | pred |\n",
       "|---|---|---|\n",
       "| 31 | -0.8370999 | -2.841928 |\n",
       "| 32 | -2.4948004 | -2.841928 |\n",
       "| 33 | -2.9323672 | -2.841928 |\n",
       "| 34 | -2.8074105 | -2.841928 |\n",
       "| 35 | -2.5760650 | -2.841928 |\n",
       "\n"
      ],
      "text/plain": [
       "   real       pred     \n",
       "31 -0.8370999 -2.841928\n",
       "32 -2.4948004 -2.841928\n",
       "33 -2.9323672 -2.841928\n",
       "34 -2.8074105 -2.841928\n",
       "35 -2.5760650 -2.841928"
      ]
     },
     "metadata": {},
     "output_type": "display_data"
    }
   ],
   "source": [
    "pred= forecast_values$mean\n",
    "cbind(real, pred)"
   ]
  },
  {
   "cell_type": "markdown",
   "metadata": {
    "vscode": {
     "languageId": "r"
    }
   },
   "source": [
    "比较可知，模拟效果尚可，偏误不大。"
   ]
  },
  {
   "cell_type": "markdown",
   "metadata": {},
   "source": [
    "#### (d)\n",
    "画出预测及其 95% 预测极限。真实值是否落入预测极限的区间？  \n",
    "\n",
    "$\\text{Solution.}$"
   ]
  },
  {
   "cell_type": "code",
   "execution_count": 85,
   "metadata": {
    "vscode": {
     "languageId": "r"
    }
   },
   "outputs": [
    {
     "data": {
      "image/png": "[encoded data removed]",
      "text/plain": [
       "Plot with title \"Forecasts from ARIMA(0,1,1)\""
      ]
     },
     "metadata": {
      "image/png": {
       "height": 420,
       "width": 420
      }
     },
     "output_type": "display_data"
    }
   ],
   "source": [
    "forecast_values = forecast(model, h=5)\n",
    "plot(forecast_values, type='o')\n",
    "points(forecast_values$mean, col='blue',pch=15)\n",
    "points(x=(31:35), y= real, col= 'black',pch=18)"
   ]
  },
  {
   "cell_type": "markdown",
   "metadata": {
    "vscode": {
     "languageId": "r"
    }
   },
   "source": [
    "第31个真实值明显偏离了预测区间，但其他真实值都在预测区间内。  \n",
    "\n",
    "甚至第34个真实值点基本和预测值重合了。"
   ]
  },
  {
   "cell_type": "markdown",
   "metadata": {},
   "source": [
    "#### (e)\n",
    "用同样的参数值和相同的样本容量，模拟一个新的序列，并重复 (a) 到 (d)。  \n",
    "\n",
    "$\\text{Solution.}$"
   ]
  },
  {
   "cell_type": "code",
   "execution_count": 86,
   "metadata": {
    "vscode": {
     "languageId": "r"
    }
   },
   "outputs": [
    {
     "name": "stdout",
     "output_type": "stream",
     "text": [
      "\n",
      "Call:\n",
      "arima(x = series, order = c(0, 1, 1), method = \"ML\")\n",
      "\n",
      "Coefficients:\n",
      "          ma1\n",
      "      -1.0000\n",
      "s.e.   0.1045\n",
      "\n",
      "sigma^2 estimated as 0.5678:  log likelihood = -34.64,  aic = 73.28\n"
     ]
    },
    {
     "data": {
      "text/html": [
       "<table class=\"dataframe\">\n",
       "<caption>A Time Series: 5 × 2</caption>\n",
       "<thead>\n",
       "\t<tr><th></th><th scope=col>real</th><th scope=col>pred</th></tr>\n",
       "</thead>\n",
       "<tbody>\n",
       "\t<tr><th scope=row>31</th><td> 0.07555234</td><td>0.05628263</td></tr>\n",
       "\t<tr><th scope=row>32</th><td> 0.91543928</td><td>0.05628263</td></tr>\n",
       "\t<tr><th scope=row>33</th><td> 0.25717217</td><td>0.05628263</td></tr>\n",
       "\t<tr><th scope=row>34</th><td> 0.40096227</td><td>0.05628263</td></tr>\n",
       "\t<tr><th scope=row>35</th><td>-0.27907410</td><td>0.05628263</td></tr>\n",
       "</tbody>\n",
       "</table>\n"
      ],
      "text/latex": [
       "A Time Series: 5 × 2\n",
       "\\begin{tabular}{r|ll}\n",
       "  & real & pred\\\\\n",
       "\\hline\n",
       "\t31 &  0.07555234 & 0.05628263\\\\\n",
       "\t32 &  0.91543928 & 0.05628263\\\\\n",
       "\t33 &  0.25717217 & 0.05628263\\\\\n",
       "\t34 &  0.40096227 & 0.05628263\\\\\n",
       "\t35 & -0.27907410 & 0.05628263\\\\\n",
       "\\end{tabular}\n"
      ],
      "text/markdown": [
       "\n",
       "A Time Series: 5 × 2\n",
       "\n",
       "| <!--/--> | real | pred |\n",
       "|---|---|---|\n",
       "| 31 |  0.07555234 | 0.05628263 |\n",
       "| 32 |  0.91543928 | 0.05628263 |\n",
       "| 33 |  0.25717217 | 0.05628263 |\n",
       "| 34 |  0.40096227 | 0.05628263 |\n",
       "| 35 | -0.27907410 | 0.05628263 |\n",
       "\n"
      ],
      "text/plain": [
       "   real        pred      \n",
       "31  0.07555234 0.05628263\n",
       "32  0.91543928 0.05628263\n",
       "33  0.25717217 0.05628263\n",
       "34  0.40096227 0.05628263\n",
       "35 -0.27907410 0.05628263"
      ]
     },
     "metadata": {},
     "output_type": "display_data"
    },
    {
     "data": {
      "image/png": "[encoded data removed]",
      "text/plain": [
       "Plot with title \"Forecasts from ARIMA(0,1,1)\""
      ]
     },
     "metadata": {
      "image/png": {
       "height": 420,
       "width": 420
      }
     },
     "output_type": "display_data"
    },
    {
     "data": {
      "image/png": "[encoded data removed]",
      "text/plain": [
       "Plot with title \"Forecasts from ARIMA(0,1,1)\""
      ]
     },
     "metadata": {
      "image/png": {
       "height": 420,
       "width": 420
      }
     },
     "output_type": "display_data"
    }
   ],
   "source": [
    "set.seed(7777777) \n",
    "series = arima.sim(n=35, model=list(order=c(0,1,1), ma=-0.8))[-1]\n",
    "real= series[31:35]\n",
    "series = series[1:30]\n",
    "model = arima(series, order=c(0,1,1), method='ML')\n",
    "print(model)\n",
    "\n",
    "forecast_values = forecast(model, h=5)\n",
    "plot(forecast_values, type='o')\n",
    "points(forecast_values$mean, col='blue',pch=15)\n",
    "pred= forecast_values$mean\n",
    "cbind(real, pred)\n",
    "\n",
    "plot(forecast_values, type='o')\n",
    "points(forecast_values$mean, col='blue',pch=15)\n",
    "points(x=(31:35), y= real, col= 'black',pch=18)"
   ]
  },
  {
   "cell_type": "markdown",
   "metadata": {
    "vscode": {
     "languageId": "r"
    }
   },
   "source": [
    "这一次，模拟效果很好，没有再出现真实值点明显偏离了预测区间的情况。"
   ]
  }
 ],
 "metadata": {
  "kernelspec": {
   "display_name": "R",
   "language": "R",
   "name": "ir"
  },
  "language_info": {
   "codemirror_mode": "r",
   "file_extension": ".r",
   "mimetype": "text/x-r-source",
   "name": "R",
   "pygments_lexer": "r",
   "version": "4.3.2"
  }
 },
 "nbformat": 4,
 "nbformat_minor": 2
}
