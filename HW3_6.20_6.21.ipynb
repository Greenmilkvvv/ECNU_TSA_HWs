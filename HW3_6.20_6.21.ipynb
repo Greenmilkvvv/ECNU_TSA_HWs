{
 "cells": [
  {
   "cell_type": "markdown",
   "metadata": {},
   "source": [
    "## 6.20 \n",
    "模拟 $n$=48，$\\phi$ =0.7 的 AR(1) 时间序列。"
   ]
  },
  {
   "cell_type": "code",
   "execution_count": 5,
   "metadata": {
    "vscode": {
     "languageId": "r"
    }
   },
   "outputs": [],
   "source": [
    "set.seed(123)  # 设置随机种子，保证结果可重复\n",
    "\n",
    "n <- 48\n",
    "phi <- 0.7\n",
    "\n",
    "x <- arima.sim(model = list(ar = phi), n = n)  # 生成 AR(1) 时间序列"
   ]
  },
  {
   "cell_type": "markdown",
   "metadata": {},
   "source": [
    "### (a) \n",
    "计算该模型在 1 阶和 5 阶滞后处的理论自相关系数。  \n",
    "\n",
    "$\\text{Solution}.$  "
   ]
  },
  {
   "cell_type": "code",
   "execution_count": 6,
   "metadata": {
    "vscode": {
     "languageId": "r"
    }
   },
   "outputs": [],
   "source": [
    "rho1 = 0.7\n",
    "rho5 = 0.7^5"
   ]
  },
  {
   "cell_type": "code",
   "execution_count": 7,
   "metadata": {
    "vscode": {
     "languageId": "r"
    }
   },
   "outputs": [
    {
     "data": {
      "text/html": [
       "0.7"
      ],
      "text/latex": [
       "0.7"
      ],
      "text/markdown": [
       "0.7"
      ],
      "text/plain": [
       "[1] 0.7"
      ]
     },
     "metadata": {},
     "output_type": "display_data"
    }
   ],
   "source": [
    "rho1"
   ]
  },
  {
   "cell_type": "code",
   "execution_count": 8,
   "metadata": {
    "vscode": {
     "languageId": "r"
    }
   },
   "outputs": [
    {
     "data": {
      "text/html": [
       "0.16807"
      ],
      "text/latex": [
       "0.16807"
      ],
      "text/markdown": [
       "0.16807"
      ],
      "text/plain": [
       "[1] 0.16807"
      ]
     },
     "metadata": {},
     "output_type": "display_data"
    }
   ],
   "source": [
    "rho5"
   ]
  },
  {
   "cell_type": "markdown",
   "metadata": {},
   "source": [
    "对于 AR(1) 模型，其自相关函数为：\n",
    "$$\n",
    "\\rho_k = \\phi^k\n",
    "$$\n",
    "因此，1 阶滞后处的理论自相关系数为：\n",
    "$$\n",
    "\\rho_1 = \\phi^1 = 0.7\n",
    "$$\n",
    "5 阶滞后处的理论自相关系数为：\n",
    "$$\n",
    "\\rho_5 = \\phi^5 = 0.7^5 \\approx 0.16807\n",
    "$$"
   ]
  },
  {
   "cell_type": "markdown",
   "metadata": {},
   "source": [
    "### (b) \n",
    "计算 1 阶和 5 阶滞后处样本自相关系数，并将其与理论自相关值进行比较。用方程（6.1.5）和（6.1.6）量化这个比较。  \n",
    "\n",
    "$\\text{Solution}.$  \n"
   ]
  },
  {
   "cell_type": "code",
   "execution_count": 9,
   "metadata": {
    "vscode": {
     "languageId": "r"
    }
   },
   "outputs": [
    {
     "data": {
      "text/plain": [
       "\n",
       "Autocorrelations of series 'x', by lag\n",
       "\n",
       "     0      1      2      3      4      5      6      7      8      9     10 \n",
       " 1.000  0.716  0.529  0.371  0.204  0.119 -0.027 -0.117 -0.221 -0.254 -0.287 \n",
       "    11     12     13     14     15     16 \n",
       "-0.276 -0.285 -0.282 -0.111 -0.066  0.024 "
      ]
     },
     "metadata": {},
     "output_type": "display_data"
    }
   ],
   "source": [
    "acf_values <- acf(x, plot = FALSE)  # 计算自相关系数\n",
    "acf_values"
   ]
  },
  {
   "cell_type": "code",
   "execution_count": 10,
   "metadata": {
    "vscode": {
     "languageId": "r"
    }
   },
   "outputs": [],
   "source": [
    "r1 <- acf_values$acf[2]  # 1 阶滞后处的样本自相关系数\n",
    "r5 <- acf_values$acf[6]  # 5 阶滞后处的样本自相关系数"
   ]
  },
  {
   "cell_type": "code",
   "execution_count": 11,
   "metadata": {
    "vscode": {
     "languageId": "r"
    }
   },
   "outputs": [
    {
     "data": {
      "text/html": [
       "0.716129494482611"
      ],
      "text/latex": [
       "0.716129494482611"
      ],
      "text/markdown": [
       "0.716129494482611"
      ],
      "text/plain": [
       "[1] 0.7161295"
      ]
     },
     "metadata": {},
     "output_type": "display_data"
    }
   ],
   "source": [
    "r1"
   ]
  },
  {
   "cell_type": "code",
   "execution_count": 12,
   "metadata": {
    "vscode": {
     "languageId": "r"
    }
   },
   "outputs": [
    {
     "data": {
      "text/html": [
       "0.0161294944826107"
      ],
      "text/latex": [
       "0.0161294944826107"
      ],
      "text/markdown": [
       "0.0161294944826107"
      ],
      "text/plain": [
       "[1] 0.01612949"
      ]
     },
     "metadata": {},
     "output_type": "display_data"
    }
   ],
   "source": [
    "r1 - rho1"
   ]
  },
  {
   "cell_type": "code",
   "execution_count": 13,
   "metadata": {
    "vscode": {
     "languageId": "r"
    }
   },
   "outputs": [
    {
     "data": {
      "text/html": [
       "0.118618618903509"
      ],
      "text/latex": [
       "0.118618618903509"
      ],
      "text/markdown": [
       "0.118618618903509"
      ],
      "text/plain": [
       "[1] 0.1186186"
      ]
     },
     "metadata": {},
     "output_type": "display_data"
    }
   ],
   "source": [
    "r5"
   ]
  },
  {
   "cell_type": "code",
   "execution_count": 14,
   "metadata": {
    "vscode": {
     "languageId": "r"
    }
   },
   "outputs": [
    {
     "data": {
      "text/html": [
       "-0.0494513810964908"
      ],
      "text/latex": [
       "-0.0494513810964908"
      ],
      "text/markdown": [
       "-0.0494513810964908"
      ],
      "text/plain": [
       "[1] -0.04945138"
      ]
     },
     "metadata": {},
     "output_type": "display_data"
    }
   ],
   "source": [
    "r5 - rho5"
   ]
  },
  {
   "cell_type": "markdown",
   "metadata": {},
   "source": [
    "由此可见，样本自相关系数$r_1 , r_5$与理论自相关系数$\\rho_1 , \\rho_5$之间**差异比较小**。"
   ]
  },
  {
   "cell_type": "markdown",
   "metadata": {},
   "source": [
    "$$Var(r_1) \\approx \\frac{1-\\phi^2}{n} \\quad  \\text{(6.1.5)} $$  \n",
    "\n",
    "$$Var(r_k) \\approx \\frac{1}{n}[\\frac{1+\\phi^2}{1-\\phi^2}] \\space , \\quad \\text{对较大的} k \\quad  \\text{(6.1.6)} $$"
   ]
  },
  {
   "cell_type": "code",
   "execution_count": 15,
   "metadata": {
    "vscode": {
     "languageId": "r"
    }
   },
   "outputs": [
    {
     "data": {
      "text/html": [
       "0.010625"
      ],
      "text/latex": [
       "0.010625"
      ],
      "text/markdown": [
       "0.010625"
      ],
      "text/plain": [
       "[1] 0.010625"
      ]
     },
     "metadata": {},
     "output_type": "display_data"
    }
   ],
   "source": [
    "Var_r1 = (1 - phi^2) / n\n",
    "Var_r1"
   ]
  },
  {
   "cell_type": "code",
   "execution_count": 16,
   "metadata": {
    "vscode": {
     "languageId": "r"
    }
   },
   "outputs": [
    {
     "data": {
      "text/html": [
       "0.0608660130718954"
      ],
      "text/latex": [
       "0.0608660130718954"
      ],
      "text/markdown": [
       "0.0608660130718954"
      ],
      "text/plain": [
       "[1] 0.06086601"
      ]
     },
     "metadata": {},
     "output_type": "display_data"
    }
   ],
   "source": [
    "Var_r5 = 1 / n * ((1 + phi^2) / (1 - phi^2))\n",
    "Var_r5"
   ]
  },
  {
   "cell_type": "markdown",
   "metadata": {},
   "source": [
    "样本自相关系数与真实理论自相关系数值的差异与估计量的方差有关。方差越小，估计的精度越高。  \n",
    "\n",
    "方差 $Var(r_1)$ 和 $Var(r_5)$ 都非常小，所以样本自相关系数的估计精度还是比较高的。"
   ]
  },
  {
   "cell_type": "markdown",
   "metadata": {},
   "source": [
    "### (c) \n",
    "使用新的模拟重复（b）。描述在相同条件下，估计的精度如何随所选样本的不同而变化。  \n",
    "\n",
    "$\\text{Solution}.$"
   ]
  },
  {
   "cell_type": "code",
   "execution_count": 17,
   "metadata": {
    "vscode": {
     "languageId": "r"
    }
   },
   "outputs": [],
   "source": [
    "set.seed(789)  # 设置随机种子，保证结果可重复\n",
    "x <- arima.sim(model = list(ar = phi), n = n)  # 生成 AR(1) 时间序列"
   ]
  },
  {
   "cell_type": "code",
   "execution_count": 18,
   "metadata": {
    "vscode": {
     "languageId": "r"
    }
   },
   "outputs": [],
   "source": [
    "acf_values <- acf(x, plot = FALSE)  # 计算自相关系数\n",
    "\n",
    "r1 <- acf_values$acf[2]  # 1 阶滞后处的样本自相关系数\n",
    "r5 <- acf_values$acf[6]  # 5 阶滞后处的样本自相关系数"
   ]
  },
  {
   "cell_type": "code",
   "execution_count": 19,
   "metadata": {
    "vscode": {
     "languageId": "r"
    }
   },
   "outputs": [
    {
     "data": {
      "text/html": [
       "0.0131175271544546"
      ],
      "text/latex": [
       "0.0131175271544546"
      ],
      "text/markdown": [
       "0.0131175271544546"
      ],
      "text/plain": [
       "[1] 0.01311753"
      ]
     },
     "metadata": {},
     "output_type": "display_data"
    }
   ],
   "source": [
    "r1 - rho1"
   ]
  },
  {
   "cell_type": "code",
   "execution_count": 20,
   "metadata": {
    "vscode": {
     "languageId": "r"
    }
   },
   "outputs": [
    {
     "data": {
      "text/html": [
       "-0.0331016417255391"
      ],
      "text/latex": [
       "-0.0331016417255391"
      ],
      "text/markdown": [
       "-0.0331016417255391"
      ],
      "text/plain": [
       "[1] -0.03310164"
      ]
     },
     "metadata": {},
     "output_type": "display_data"
    }
   ],
   "source": [
    "r5 - rho5"
   ]
  },
  {
   "cell_type": "code",
   "execution_count": 21,
   "metadata": {
    "vscode": {
     "languageId": "r"
    }
   },
   "outputs": [
    {
     "data": {
      "text/html": [
       "0.010625"
      ],
      "text/latex": [
       "0.010625"
      ],
      "text/markdown": [
       "0.010625"
      ],
      "text/plain": [
       "[1] 0.010625"
      ]
     },
     "metadata": {},
     "output_type": "display_data"
    }
   ],
   "source": [
    "Var_r1 = (1 - phi^2) / n\n",
    "Var_r1"
   ]
  },
  {
   "cell_type": "code",
   "execution_count": 22,
   "metadata": {
    "vscode": {
     "languageId": "r"
    }
   },
   "outputs": [
    {
     "data": {
      "text/html": [
       "0.0608660130718954"
      ],
      "text/latex": [
       "0.0608660130718954"
      ],
      "text/markdown": [
       "0.0608660130718954"
      ],
      "text/plain": [
       "[1] 0.06086601"
      ]
     },
     "metadata": {},
     "output_type": "display_data"
    }
   ],
   "source": [
    "Var_r5 = 1 / n * ((1 + phi^2) / (1 - phi^2))\n",
    "Var_r5"
   ]
  },
  {
   "cell_type": "markdown",
   "metadata": {},
   "source": [
    "**不同的样本**会导致**样本自相关系数有所不同**，但总体上方差大致相同，因此$r$作为$\\rho$的估计量应当在特定的理论值周围波动。"
   ]
  },
  {
   "cell_type": "markdown",
   "metadata": {},
   "source": [
    "### (d) \n",
    "如果软件允许，重复模拟序列并多次计算 $r_1$ 和 $r_5$，并且构建 $r_1$ 和 $r_5$ 的样本分布。  \n",
    "\n",
    "描述估计的精度如何随着相同条件下所选择的样本的不同而变化。  \n",
    "\n",
    "方程（6.1.5）给出的大样本方差与你的样本分布的方差接近程度如何？  \n",
    "\n",
    "$\\text{Solution}.$"
   ]
  },
  {
   "cell_type": "code",
   "execution_count": null,
   "metadata": {
    "vscode": {
     "languageId": "r"
    }
   },
   "outputs": [],
   "source": [
    "# 设置重复次数\n",
    "num_simulations <- 10000\n",
    "\n",
    "# 存储每次模拟的 r1 和 r5\n",
    "r1_distribution <- numeric(num_simulations)\n",
    "r5_distribution <- numeric(num_simulations)\n",
    "\n",
    "for (i in 1:num_simulations) {\n",
    "  # 模拟 AR(1) 序列\n",
    "  set.seed(i+10)  # 设置随机种子，保证结果可重复\n",
    "  x_sim = arima.sim(model = list(ar = phi), n = n)\n",
    "  \n",
    "  # 计算样本自相关系数\n",
    "  acf_sim <- acf(x_sim, plot = FALSE)\n",
    "  r1_distribution[i] <- acf_sim$acf[2]\n",
    "  r5_distribution[i] <- acf_sim$acf[6]\n",
    "}\n",
    "\n",
    "# 计算样本分布的均值\n",
    "mean_r1 <- mean(r1_distribution)\n",
    "mean_r5 <- mean(r5_distribution)"
   ]
  },
  {
   "cell_type": "code",
   "execution_count": 73,
   "metadata": {
    "vscode": {
     "languageId": "r"
    }
   },
   "outputs": [
    {
     "data": {
      "image/png": "[encoded data removed]",
      "text/plain": [
       "Plot with title \"Histogram of r1_distribution\""
      ]
     },
     "metadata": {
      "image/png": {
       "height": 420,
       "width": 420
      }
     },
     "output_type": "display_data"
    }
   ],
   "source": [
    "hist(r1_distribution)"
   ]
  },
  {
   "cell_type": "code",
   "execution_count": 74,
   "metadata": {
    "vscode": {
     "languageId": "r"
    }
   },
   "outputs": [
    {
     "data": {
      "text/plain": [
       "   Min. 1st Qu.  Median    Mean 3rd Qu.    Max. \n",
       "0.05942 0.54793 0.63094 0.61815 0.70134 0.90860 "
      ]
     },
     "metadata": {},
     "output_type": "display_data"
    }
   ],
   "source": [
    "summary(r1_distribution)"
   ]
  },
  {
   "cell_type": "code",
   "execution_count": 75,
   "metadata": {
    "vscode": {
     "languageId": "r"
    }
   },
   "outputs": [
    {
     "data": {
      "image/png": "[encoded data removed]",
      "text/plain": [
       "Plot with title \"Histogram of r5_distribution\""
      ]
     },
     "metadata": {
      "image/png": {
       "height": 420,
       "width": 420
      }
     },
     "output_type": "display_data"
    }
   ],
   "source": [
    "hist(r5_distribution)"
   ]
  },
  {
   "cell_type": "code",
   "execution_count": 76,
   "metadata": {
    "vscode": {
     "languageId": "r"
    }
   },
   "outputs": [
    {
     "data": {
      "text/plain": [
       "    Min.  1st Qu.   Median     Mean  3rd Qu.     Max. \n",
       "-0.55854 -0.09543  0.03152  0.03336  0.15937  0.62919 "
      ]
     },
     "metadata": {},
     "output_type": "display_data"
    }
   ],
   "source": [
    "summary(r5_distribution)"
   ]
  },
  {
   "cell_type": "markdown",
   "metadata": {
    "vscode": {
     "languageId": "r"
    }
   },
   "source": [
    "分布情况展示如上。  \n",
    "\n",
    "$r_1$的理论值$\\rho_1 = 0.7$大致在3/4分位数附近，$r_5$的理论值$\\rho_5 = 0.16807$已经超过3/4分位数。  \n",
    "\n",
    "由此可见，参数估计的精度随着样本的不同而变化。但是估计值的方差与方程（6.1.5）给出的方差很接近，具体如下："
   ]
  },
  {
   "cell_type": "code",
   "execution_count": 61,
   "metadata": {
    "vscode": {
     "languageId": "r"
    }
   },
   "outputs": [
    {
     "data": {
      "text/html": [
       "0.0137251755097358"
      ],
      "text/latex": [
       "0.0137251755097358"
      ],
      "text/markdown": [
       "0.0137251755097358"
      ],
      "text/plain": [
       "[1] 0.01372518"
      ]
     },
     "metadata": {},
     "output_type": "display_data"
    }
   ],
   "source": [
    "variance_r1_sample = var(r1_distribution)\n",
    "variance_r1"
   ]
  },
  {
   "cell_type": "code",
   "execution_count": 62,
   "metadata": {
    "vscode": {
     "languageId": "r"
    }
   },
   "outputs": [
    {
     "data": {
      "text/html": [
       "0.0318308478291206"
      ],
      "text/latex": [
       "0.0318308478291206"
      ],
      "text/markdown": [
       "0.0318308478291206"
      ],
      "text/plain": [
       "[1] 0.03183085"
      ]
     },
     "metadata": {},
     "output_type": "display_data"
    }
   ],
   "source": [
    "variance_r5_sample = var(r5_distribution)\n",
    "variance_r5"
   ]
  },
  {
   "cell_type": "code",
   "execution_count": 63,
   "metadata": {
    "vscode": {
     "languageId": "r"
    }
   },
   "outputs": [
    {
     "data": {
      "text/html": [
       "0.0029426968843183"
      ],
      "text/latex": [
       "0.0029426968843183"
      ],
      "text/markdown": [
       "0.0029426968843183"
      ],
      "text/plain": [
       "[1] 0.002942697"
      ]
     },
     "metadata": {},
     "output_type": "display_data"
    }
   ],
   "source": [
    "variance_r1_sample - Var_r1"
   ]
  },
  {
   "cell_type": "code",
   "execution_count": 64,
   "metadata": {
    "vscode": {
     "languageId": "r"
    }
   },
   "outputs": [
    {
     "data": {
      "text/html": [
       "-0.0268002088519372"
      ],
      "text/latex": [
       "-0.0268002088519372"
      ],
      "text/markdown": [
       "-0.0268002088519372"
      ],
      "text/plain": [
       "[1] -0.02680021"
      ]
     },
     "metadata": {},
     "output_type": "display_data"
    }
   ],
   "source": [
    "variance_r5_sample - Var_r5"
   ]
  },
  {
   "cell_type": "markdown",
   "metadata": {},
   "source": [
    "在大样本的渐进性质下，方差的估计是愈发趋向准确的。"
   ]
  },
  {
   "cell_type": "markdown",
   "metadata": {},
   "source": [
    "## 6.21 \n",
    "模拟 $n$=60，$\\theta$=0.5 的 MA(1) 时间序列。"
   ]
  },
  {
   "cell_type": "code",
   "execution_count": 23,
   "metadata": {
    "vscode": {
     "languageId": "r"
    }
   },
   "outputs": [],
   "source": [
    "n = 60\n",
    "theta = 0.5\n",
    "\n",
    "set.seed(61)\n",
    "x <- arima.sim(model = list(ma = -theta), n = n)  # 生成 MA(1) 时间序列"
   ]
  },
  {
   "cell_type": "markdown",
   "metadata": {},
   "source": [
    "### (a) \n",
    "计算该模型 1 阶滞后处的理论自相关系数。\n",
    "\n",
    "$\\text{Solution}.$"
   ]
  },
  {
   "cell_type": "code",
   "execution_count": 24,
   "metadata": {
    "vscode": {
     "languageId": "r"
    }
   },
   "outputs": [
    {
     "data": {
      "text/html": [
       "-0.4"
      ],
      "text/latex": [
       "-0.4"
      ],
      "text/markdown": [
       "-0.4"
      ],
      "text/plain": [
       "[1] -0.4"
      ]
     },
     "metadata": {},
     "output_type": "display_data"
    }
   ],
   "source": [
    "-theta/(1+theta^2)"
   ]
  },
  {
   "cell_type": "markdown",
   "metadata": {},
   "source": [
    "理论自相关系数为-0.4"
   ]
  },
  {
   "cell_type": "markdown",
   "metadata": {},
   "source": [
    "### (b) \n",
    "计算 1 阶滞后处样本自相关系数，并将其与理论自相关系数进行比较。用图表 6-2 量化这个比较。  \n",
    "\n",
    "$\\text{Solution}.$"
   ]
  },
  {
   "cell_type": "code",
   "execution_count": 25,
   "metadata": {
    "vscode": {
     "languageId": "r"
    }
   },
   "outputs": [],
   "source": [
    "acf_values <- acf(x, plot = FALSE)  # 计算自相关系数\n",
    "r1 = acf_values['1']"
   ]
  },
  {
   "cell_type": "code",
   "execution_count": 26,
   "metadata": {
    "vscode": {
     "languageId": "r"
    }
   },
   "outputs": [
    {
     "data": {
      "text/plain": [
       "\n",
       "Autocorrelations of series 'x', by lag\n",
       "\n",
       "     1 \n",
       "-0.412 "
      ]
     },
     "metadata": {},
     "output_type": "display_data"
    }
   ],
   "source": [
    "r1"
   ]
  },
  {
   "cell_type": "markdown",
   "metadata": {},
   "source": [
    "从中我们得到，样本自相关系数$r_1 = -0.412$与理论自相关系数$\\rho_1 = -0.4$接近。"
   ]
  },
  {
   "cell_type": "code",
   "execution_count": 22,
   "metadata": {
    "vscode": {
     "languageId": "r"
    }
   },
   "outputs": [
    {
     "data": {
      "text/html": [
       "0.101988561450129"
      ],
      "text/latex": [
       "0.101988561450129"
      ],
      "text/markdown": [
       "0.101988561450129"
      ],
      "text/plain": [
       "[1] 0.1019886"
      ]
     },
     "metadata": {},
     "output_type": "display_data"
    }
   ],
   "source": [
    "0.79 / n^0.5"
   ]
  },
  {
   "cell_type": "markdown",
   "metadata": {
    "vscode": {
     "languageId": "r"
    }
   },
   "source": [
    "根据表（6.2），$\\sqrt{Var(r_1)}=\\frac{0.79}{\\sqrt{n}} \\approx 0.10199$  \n",
    "\n",
    "发现估计值与真实值之间的差异也就是一个大样本标准差。估计的准确度是较高的。"
   ]
  },
  {
   "cell_type": "markdown",
   "metadata": {},
   "source": [
    "### (c) \n",
    "使用新的模拟重复（b）。描述在相同条件下，估计的精度如何随所选样本的不同而变化。\n",
    "\n",
    "$\\text{Solution}.$"
   ]
  },
  {
   "cell_type": "code",
   "execution_count": 29,
   "metadata": {
    "vscode": {
     "languageId": "r"
    }
   },
   "outputs": [
    {
     "data": {
      "text/plain": [
       "\n",
       "Autocorrelations of series 'x', by lag\n",
       "\n",
       "     1 \n",
       "-0.295 "
      ]
     },
     "metadata": {},
     "output_type": "display_data"
    }
   ],
   "source": [
    "set.seed(996)\n",
    "x <- arima.sim(model = list(ma = -theta), n = n)  # 生成 MA(1) 时间序列\n",
    "\n",
    "acf_values <- acf(x, plot = FALSE)  # 计算自相关系数\n",
    "r1 = acf_values['1']\n",
    "r1"
   ]
  },
  {
   "cell_type": "markdown",
   "metadata": {
    "vscode": {
     "languageId": "r"
    }
   },
   "source": [
    "这次的估计偏误明显会大一点。不同的样本会导致**样本自相关系数有所不同**，但总体上方差大致相同，因此$r$作为$\\rho$的估计量应当在特定的理论值周围波动。"
   ]
  },
  {
   "cell_type": "markdown",
   "metadata": {},
   "source": [
    "### (d) \n",
    "如果软件允许，重复模拟序列并多次计算 r₁，并且构建 r₁ 的样本分布。描述估计的精度如何随着相同条件下所选择样本的不同而变化。图表 6-2 给出的大样本方差与你的样本分布的方差接近程度如何？\n",
    "\n",
    "$\\text{Solution}.$"
   ]
  },
  {
   "cell_type": "code",
   "execution_count": 37,
   "metadata": {
    "vscode": {
     "languageId": "r"
    }
   },
   "outputs": [],
   "source": [
    "# 设置重复次数\n",
    "num_simulations <- 10000\n",
    "\n",
    "# 存储每次模拟的 r1\n",
    "r1_distribution <- numeric(num_simulations)\n",
    "\n",
    "for (i in 1:num_simulations) {\n",
    "  # 模拟 AR(1) 序列\n",
    "  set.seed(i+10077)  # 设置随机种子，保证结果可重复\n",
    "  x_sim = arima.sim(model = list(ma = -theta), n = n)\n",
    "  \n",
    "  # 计算样本自相关系数\n",
    "  acf_sim <- acf(x_sim, plot = FALSE)\n",
    "  r1_distribution[i] <- acf_sim$acf[2]\n",
    "}"
   ]
  },
  {
   "cell_type": "code",
   "execution_count": 38,
   "metadata": {
    "vscode": {
     "languageId": "r"
    }
   },
   "outputs": [
    {
     "data": {
      "image/png": "[encoded data removed]",
      "text/plain": [
       "Plot with title \"Histogram of r1_distribution\""
      ]
     },
     "metadata": {
      "image/png": {
       "height": 420,
       "width": 420
      }
     },
     "output_type": "display_data"
    }
   ],
   "source": [
    "hist(r1_distribution)"
   ]
  },
  {
   "cell_type": "code",
   "execution_count": 39,
   "metadata": {
    "vscode": {
     "languageId": "r"
    }
   },
   "outputs": [
    {
     "data": {
      "text/plain": [
       "    Min.  1st Qu.   Median     Mean  3rd Qu.     Max. \n",
       "-0.73653 -0.45925 -0.39374 -0.38948 -0.32294  0.01198 "
      ]
     },
     "metadata": {},
     "output_type": "display_data"
    }
   ],
   "source": [
    "summary(r1_distribution)"
   ]
  },
  {
   "cell_type": "code",
   "execution_count": 40,
   "metadata": {
    "vscode": {
     "languageId": "r"
    }
   },
   "outputs": [
    {
     "data": {
      "text/html": [
       "-0.389483034641693"
      ],
      "text/latex": [
       "-0.389483034641693"
      ],
      "text/markdown": [
       "-0.389483034641693"
      ],
      "text/plain": [
       "[1] -0.389483"
      ]
     },
     "metadata": {},
     "output_type": "display_data"
    }
   ],
   "source": [
    "mean(r1_distribution)"
   ]
  },
  {
   "cell_type": "markdown",
   "metadata": {},
   "source": [
    "由此可见，大样本下估计值$r_1$是比较接近理论值$\\rho_1$的。  \n",
    "\n",
    "在此次模拟中，1/4分位数和3/4分位数分别位于-0.45和-0.32附近，说明估计值在理论值-0.4附近波动，大部分估计的精度是比较高的。从分布直方图来看，分布并不厚为，偏误较大的估计值是很少的。"
   ]
  },
  {
   "cell_type": "code",
   "execution_count": 42,
   "metadata": {
    "vscode": {
     "languageId": "r"
    }
   },
   "outputs": [
    {
     "data": {
      "text/html": [
       "0.10029475248109"
      ],
      "text/latex": [
       "0.10029475248109"
      ],
      "text/markdown": [
       "0.10029475248109"
      ],
      "text/plain": [
       "[1] 0.1002948"
      ]
     },
     "metadata": {},
     "output_type": "display_data"
    }
   ],
   "source": [
    "var(r1_distribution)**0.5"
   ]
  },
  {
   "cell_type": "markdown",
   "metadata": {},
   "source": [
    "样本方差开根$\\sqrt{Var(r_1)} \\approx = 0.10029$，与表（6.2）给出的$0.10199$相当接近。"
   ]
  }
 ],
 "metadata": {
  "kernelspec": {
   "display_name": "R",
   "language": "R",
   "name": "ir"
  },
  "language_info": {
   "codemirror_mode": "r",
   "file_extension": ".r",
   "mimetype": "text/x-r-source",
   "name": "R",
   "pygments_lexer": "r",
   "version": "4.3.2"
  }
 },
 "nbformat": 4,
 "nbformat_minor": 2
}
