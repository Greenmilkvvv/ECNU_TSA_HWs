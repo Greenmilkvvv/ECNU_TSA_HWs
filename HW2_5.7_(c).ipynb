{
 "cells": [
  {
   "cell_type": "markdown",
   "metadata": {},
   "source": [
    "#### (c).  \n",
    "\n",
    "***\n",
    "\n",
    "#### $\\phi$权重:\n",
    "\n",
    "##### *AR(2)*:\n",
    "根据$(4.3.21)$\n",
    "\n",
    "\\begin{cases}\n",
    "\\psi_0 = 1  \\\\\n",
    "\\psi_1 - \\phi_1 \\psi_0 = 0 \\\\\n",
    "\\psi_j - \\phi_1 \\psi_{j-1} - \\phi_2 \\psi_{j-2} = 0 \\quad j = 2,3,\\dots\n",
    "\\end{cases}  \n",
    "\n",
    "$\\rightarrow \\quad \\psi_0 =1,\\space \\psi_1 = \\phi_1, \\space \\psi_2 =\\phi_1^2 + \\phi_2,\\space \\dots$\n"
   ]
  },
  {
   "cell_type": "code",
   "execution_count": 11,
   "metadata": {
    "vscode": {
     "languageId": "r"
    }
   },
   "outputs": [
    {
     "data": {
      "text/html": [
       "<style>\n",
       ".list-inline {list-style: none; margin:0; padding: 0}\n",
       ".list-inline>li {display: inline-block}\n",
       ".list-inline>li:not(:last-child)::after {content: \"\\00b7\"; padding: 0 .5ex}\n",
       "</style>\n",
       "<ol class=list-inline><li>1</li><li>0.9</li><li>0.9</li><li>0.891</li><li>0.8829</li><li>0.8748</li><li>0.866781</li><li>0.8588349</li><li>0.8509617</li><li>0.843160671</li><li>0.8354311569</li><li>0.8277725016</li><li>0.820184055561</li><li>0.8126651751489</li><li>0.8052152226345</li><li>0.797833566134451</li><li>0.790519579558111</li><li>0.783272642554401</li><li>0.776092140459191</li><li>0.768977464243168</li><li>0.761928010460178</li><li>0.754943181196045</li><li>0.748022384017857</li><li>0.741165031923715</li><li>0.734370543292951</li><li>0.72763834183679</li><li>0.720967856549477</li><li>0.71435852165984</li><li>0.707809776583309</li><li>0.701321065874364</li></ol>\n"
      ],
      "text/latex": [
       "\\begin{enumerate*}\n",
       "\\item 1\n",
       "\\item 0.9\n",
       "\\item 0.9\n",
       "\\item 0.891\n",
       "\\item 0.8829\n",
       "\\item 0.8748\n",
       "\\item 0.866781\n",
       "\\item 0.8588349\n",
       "\\item 0.8509617\n",
       "\\item 0.843160671\n",
       "\\item 0.8354311569\n",
       "\\item 0.8277725016\n",
       "\\item 0.820184055561\n",
       "\\item 0.8126651751489\n",
       "\\item 0.8052152226345\n",
       "\\item 0.797833566134451\n",
       "\\item 0.790519579558111\n",
       "\\item 0.783272642554401\n",
       "\\item 0.776092140459191\n",
       "\\item 0.768977464243168\n",
       "\\item 0.761928010460178\n",
       "\\item 0.754943181196045\n",
       "\\item 0.748022384017857\n",
       "\\item 0.741165031923715\n",
       "\\item 0.734370543292951\n",
       "\\item 0.72763834183679\n",
       "\\item 0.720967856549477\n",
       "\\item 0.71435852165984\n",
       "\\item 0.707809776583309\n",
       "\\item 0.701321065874364\n",
       "\\end{enumerate*}\n"
      ],
      "text/markdown": [
       "1. 1\n",
       "2. 0.9\n",
       "3. 0.9\n",
       "4. 0.891\n",
       "5. 0.8829\n",
       "6. 0.8748\n",
       "7. 0.866781\n",
       "8. 0.8588349\n",
       "9. 0.8509617\n",
       "10. 0.843160671\n",
       "11. 0.8354311569\n",
       "12. 0.8277725016\n",
       "13. 0.820184055561\n",
       "14. 0.8126651751489\n",
       "15. 0.8052152226345\n",
       "16. 0.797833566134451\n",
       "17. 0.790519579558111\n",
       "18. 0.783272642554401\n",
       "19. 0.776092140459191\n",
       "20. 0.768977464243168\n",
       "21. 0.761928010460178\n",
       "22. 0.754943181196045\n",
       "23. 0.748022384017857\n",
       "24. 0.741165031923715\n",
       "25. 0.734370543292951\n",
       "26. 0.72763834183679\n",
       "27. 0.720967856549477\n",
       "28. 0.71435852165984\n",
       "29. 0.707809776583309\n",
       "30. 0.701321065874364\n",
       "\n",
       "\n"
      ],
      "text/plain": [
       " [1] 1.0000000 0.9000000 0.9000000 0.8910000 0.8829000 0.8748000 0.8667810\n",
       " [8] 0.8588349 0.8509617 0.8431607 0.8354312 0.8277725 0.8201841 0.8126652\n",
       "[15] 0.8052152 0.7978336 0.7905196 0.7832726 0.7760921 0.7689775 0.7619280\n",
       "[22] 0.7549432 0.7480224 0.7411650 0.7343705 0.7276383 0.7209679 0.7143585\n",
       "[29] 0.7078098 0.7013211"
      ]
     },
     "metadata": {},
     "output_type": "display_data"
    }
   ],
   "source": [
    "phi1 = 0.9\n",
    "phi2 = 0.09\n",
    "\n",
    "psi.a = NULL\n",
    "psi.a[1] = 1\n",
    "psi.a[2] = phi1\n",
    "\n",
    "for (i in 3:30){\n",
    "  psi.a[i] = phi1 * psi.a[i-1] + phi2 * psi.a[i-2]\n",
    "}\n",
    "\n",
    "psi"
   ]
  },
  {
   "cell_type": "code",
   "execution_count": 10,
   "metadata": {
    "vscode": {
     "languageId": "r"
    }
   },
   "outputs": [
    {
     "data": {
      "image/png": "[encoded data removed]",
      "text/plain": [
       "Plot with title \"paste(\"AR(2)过程\", psi, \"权重\")\""
      ]
     },
     "metadata": {
      "image/png": {
       "height": 420,
       "width": 420
      }
     },
     "output_type": "display_data"
    }
   ],
   "source": [
    "plot(psi, main= expression(paste(\"AR(2)过程\",psi,\"权重\")))"
   ]
  },
  {
   "cell_type": "markdown",
   "metadata": {},
   "source": [
    "##### *IMA(1,1)*:\n",
    "\n",
    "根据$(5.2.6)$:  \n",
    "\n",
    "$Y_t = e_t + (1-\\theta)e_{t-1} +(1-\\theta)e_{t-2}+ \\dots + (1-\\theta)e_{-m} - \\theta_{-m-1}$  \n",
    "\n",
    "据此计算知，IMA(1,1)过程的$\\psi$权重为:\n",
    "\n",
    "$\\psi_0 = 1, \\space \\psi_1 = 1-\\theta = 0.9, \\space \\psi_2 = 1 - \\theta = 0.9,\\space \\psi_3 = 0.9,\\space \\psi_4 = 0.9  \\space \\dots$,   \n",
    "即   \n",
    "$\\psi_j = \n",
    "\\begin{cases} \n",
    "1,\\space j = 0,\\\\\n",
    "0.9,\\space j = 1,2,\\dots \n",
    "\\end{cases}$"
   ]
  },
  {
   "cell_type": "code",
   "execution_count": null,
   "metadata": {
    "vscode": {
     "languageId": "r"
    }
   },
   "outputs": [
    {
     "data": {
      "image/png": "[encoded data removed]",
      "text/plain": [
       "Plot with title \"paste(\"AR(2)、IMA(1,1)过程\", psi, \"权重\")\""
      ]
     },
     "metadata": {
      "image/png": {
       "height": 420,
       "width": 420
      }
     },
     "output_type": "display_data"
    }
   ],
   "source": [
    "psi.b = c(1,rep(0.9,30))\n",
    "\n",
    "# psi.a , psi.b 画图比较\n",
    "plot(psi.a, \n",
    "    col = 'blue', \n",
    "    main=expression(paste(\"AR(2)、IMA(1,1)过程\",psi,\"权重比较\")), \n",
    "    ylim=c(0,1.2))\n",
    "\n",
    "points(psi.b, col=\"red\")\n",
    "\n",
    "# 添加图例\n",
    "legend(\"topright\", \n",
    "        legend = c( expression(paste(psi,'-weights of (a)')), expression(paste(psi,'-weights of (b)'))), \n",
    "        col = c(\"blue\", \"red\"), \n",
    "        pch = c(16, 16), \n",
    "        lty = c(1, 1))"
   ]
  },
  {
   "cell_type": "markdown",
   "metadata": {},
   "source": [
    "可见，在序列的次序数不大时，应该认为两个序列$\\psi$权重是**有偏差**但依然**相对接近**的。"
   ]
  },
  {
   "cell_type": "markdown",
   "metadata": {},
   "source": [
    "***"
   ]
  },
  {
   "cell_type": "markdown",
   "metadata": {},
   "source": [
    "#### $\\pi$权重：\n",
    "\n",
    "##### *AR(2)*:"
   ]
  },
  {
   "cell_type": "markdown",
   "metadata": {},
   "source": [
    "对于AR(2)过程，$\\pi$权重为就是原本的系数。  \n",
    "\n",
    "$\\pi_0 = 1, \\space \\pi_1 = \\phi_1 = 0.9, \\space \\pi_2 = \\phi_2 = 0.09$, 而 $\\pi_j = 0$ for $j = 3, 4, 5, \\dots$   \n",
    "\n",
    "即 $\\pi_j =\n",
    "\\begin{cases}\n",
    "0.9\\space , \\space j = 1\\\\\n",
    "0.9\\space , \\space j =2\\\\\n",
    "0 \\quad, j = 3, 4, 5, \\dots\n",
    "\\end{cases}\n",
    "$"
   ]
  },
  {
   "cell_type": "markdown",
   "metadata": {},
   "source": [
    "##### *IMA(1,1)*:"
   ]
  },
  {
   "cell_type": "markdown",
   "metadata": {
    "vscode": {
     "languageId": "r"
    }
   },
   "source": [
    "对于IMA(1,1)过程，可将起逆转为MA($\\infty$)过程， \n",
    "继而可得$\\pi$权重为:  \n",
    "$\\pi_k = (1-\\theta)\\theta^{k-1}, \\space k = 1,2,3,\\dots$  \n",
    "\n",
    "则\n",
    "$\n",
    "\\pi_k = (1-\\theta)\\theta^{k-1} =\n",
    "\\begin{cases}\n",
    "0.9,\\space  k = 1\\\\\n",
    "0.09,\\space k = 2\\\\\n",
    "0.009,\\space k = 3\\\\\n",
    "0.0009,\\space k = 4\\\\\n",
    "\\vdots \\\\\n",
    "\\vdots \\\\\n",
    "\\vdots\n",
    "\\end{cases}\n",
    "$"
   ]
  },
  {
   "cell_type": "markdown",
   "metadata": {
    "vscode": {
     "languageId": "r"
    }
   },
   "source": [
    "综上可知，AR(2)和IMA(2,2)前两个$\\pi$权重是相同的。  \n",
    "而后边的权重亦相差非常小。  "
   ]
  },
  {
   "cell_type": "markdown",
   "metadata": {},
   "source": [
    "***"
   ]
  },
  {
   "cell_type": "markdown",
   "metadata": {},
   "source": [
    "综合以上分析，可以认为AR(2)和IMA(1,1)的$\\psi$权重和$\\pi$权重是**非常接近**的。  \n",
    "\n",
    "换句话说，事实上AR(2)和IMA(1,1)的概率分布及预测性能是十分相似的。"
   ]
  }
 ],
 "metadata": {
  "kernelspec": {
   "display_name": "R",
   "language": "R",
   "name": "ir"
  },
  "language_info": {
   "codemirror_mode": "r",
   "file_extension": ".r",
   "mimetype": "text/x-r-source",
   "name": "R",
   "pygments_lexer": "r",
   "version": "4.3.2"
  }
 },
 "nbformat": 4,
 "nbformat_minor": 2
}
