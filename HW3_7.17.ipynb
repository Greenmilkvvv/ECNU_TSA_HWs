{
 "cells": [
  {
   "cell_type": "markdown",
   "metadata": {},
   "source": [
    "## 7.17 \n",
    "模拟一个 $\\phi=0.7$，$\\theta=0.4$，$n=72$ 的 ARMA(1,1) 序列。"
   ]
  },
  {
   "cell_type": "code",
   "execution_count": 1,
   "metadata": {
    "vscode": {
     "languageId": "r"
    }
   },
   "outputs": [],
   "source": [
    "# 设置参数\n",
    "phi = 0.7\n",
    "theta = 0.4\n",
    "n = 72\n",
    "\n",
    "# 生成序列\n",
    "set.seed(114514)\n",
    "series=arima.sim(n=n,list(ar=phi,ma=-theta))"
   ]
  },
  {
   "cell_type": "markdown",
   "metadata": {
    "vscode": {
     "languageId": "plaintext"
    }
   },
   "source": [
    "### (a) \n",
    "求 $\\phi$ 和 $\\theta$ 的矩估计。  \n",
    "\n",
    "$\\text{Solution.}$"
   ]
  },
  {
   "cell_type": "markdown",
   "metadata": {},
   "source": [
    "对于 ARMA(1,1) 模型，其矩估计是通过样本自相关函数来估计模型参数,我们利用样本自相关系数与理论自相关系数之间的关系，解方程得到参数估计值。"
   ]
  },
  {
   "cell_type": "markdown",
   "metadata": {},
   "source": [
    "对于 ARMA(1,1)，有： \n",
    "\n",
    "$$\\hat{\\phi}=r_2/r_1 \\quad (1)$$\n",
    "$$r_1 = \\frac{(1-\\hat{\\theta}\\hat{{\\phi}})(\\hat{\\phi}-\\hat{\\theta})}{1-2\\hat{\\theta}\\hat{\\phi}+\\hat{\\theta}^2} \\quad (2)$$\n",
    "\n",
    "这里需要先后解这两个方程来估计 $\\hat{\\phi}$ 和 $\\hat{\\theta}$ :"
   ]
  },
  {
   "cell_type": "code",
   "execution_count": 2,
   "metadata": {
    "vscode": {
     "languageId": "r"
    }
   },
   "outputs": [
    {
     "data": {
      "text/plain": [
       "\n",
       "Autocorrelations of series 'series', by lag\n",
       "\n",
       "    0     1     2     3     4     5 \n",
       "1.000 0.287 0.220 0.213 0.093 0.263 "
      ]
     },
     "metadata": {},
     "output_type": "display_data"
    }
   ],
   "source": [
    "acf(series, lag.max = 5, plot = FALSE)"
   ]
  },
  {
   "cell_type": "code",
   "execution_count": 3,
   "metadata": {
    "vscode": {
     "languageId": "r"
    }
   },
   "outputs": [],
   "source": [
    "r1 = acf(series, lag.max = 5, plot = FALSE)$acf[[2]]\n",
    "r2 = acf(series, lag.max = 5, plot = FALSE)$acf[[3]]"
   ]
  },
  {
   "cell_type": "code",
   "execution_count": 4,
   "metadata": {
    "vscode": {
     "languageId": "r"
    }
   },
   "outputs": [
    {
     "data": {
      "text/html": [
       "0.287291239592992"
      ],
      "text/latex": [
       "0.287291239592992"
      ],
      "text/markdown": [
       "0.287291239592992"
      ],
      "text/plain": [
       "[1] 0.2872912"
      ]
     },
     "metadata": {},
     "output_type": "display_data"
    }
   ],
   "source": [
    "r1"
   ]
  },
  {
   "cell_type": "markdown",
   "metadata": {},
   "source": [
    "基于$r_1, r_2$，我们可以解方程得到 $\\hat{\\phi}$ 和 $\\hat{\\theta}$ 的估计值。"
   ]
  },
  {
   "cell_type": "code",
   "execution_count": 5,
   "metadata": {
    "vscode": {
     "languageId": "r"
    }
   },
   "outputs": [],
   "source": [
    "hat_phi = r2/r1"
   ]
  },
  {
   "cell_type": "code",
   "execution_count": 6,
   "metadata": {
    "vscode": {
     "languageId": "r"
    }
   },
   "outputs": [
    {
     "data": {
      "text/html": [
       "0.767211185178692"
      ],
      "text/latex": [
       "0.767211185178692"
      ],
      "text/markdown": [
       "0.767211185178692"
      ],
      "text/plain": [
       "[1] 0.7672112"
      ]
     },
     "metadata": {},
     "output_type": "display_data"
    }
   ],
   "source": [
    "hat_phi"
   ]
  },
  {
   "cell_type": "markdown",
   "metadata": {},
   "source": [
    "$\\hat{\\phi}$ 如上展示，  "
   ]
  },
  {
   "cell_type": "markdown",
   "metadata": {},
   "source": [
    "带入$r_1$ 的公式中，解方程得到 $\\hat{\\theta}$ 的估计值为复数解，因此该模型不适合使用矩估计对参数$\\theta$作估计。"
   ]
  },
  {
   "cell_type": "markdown",
   "metadata": {
    "vscode": {
     "languageId": "r"
    }
   },
   "source": [
    "### (b) \n",
    "求 $\\phi$ 和 $\\theta$ 的条件最小二乘估计，并与 (a) 比较。  \n",
    "\n",
    "$\\text{Solution.}$"
   ]
  },
  {
   "cell_type": "code",
   "execution_count": 7,
   "metadata": {
    "vscode": {
     "languageId": "r"
    }
   },
   "outputs": [
    {
     "data": {
      "text/plain": [
       "\n",
       "Call:\n",
       "arima(x = series, order = c(1, 0, 1), method = \"CSS\")\n",
       "\n",
       "Coefficients:\n",
       "         ar1      ma1  intercept\n",
       "      0.7226  -0.4719     0.1295\n",
       "s.e.  0.2070   0.2493     0.2376\n",
       "\n",
       "sigma^2 estimated as 1.057:  part log likelihood = -104.15"
      ]
     },
     "metadata": {},
     "output_type": "display_data"
    }
   ],
   "source": [
    "arima(series,order=c(1,0,1),method='CSS')"
   ]
  },
  {
   "cell_type": "markdown",
   "metadata": {
    "vscode": {
     "languageId": "r"
    }
   },
   "source": [
    "可知，$\\hat{\\phi}_{LS }= 0.7226\\space , \\space \\hat{\\theta}_{LS} = 0.4719$  \n",
    "\n",
    "$\\hat{\\phi}_{LS}$与（a）中差别不算太大。"
   ]
  },
  {
   "cell_type": "markdown",
   "metadata": {
    "vscode": {
     "languageId": "r"
    }
   },
   "source": [
    "### (c) \n",
    "求 $\\phi$ 和 $\\theta$ 的极大似然估计，并与 (a) 和 (b) 比较。\n",
    "\n",
    "$\\text{Solution.}$"
   ]
  },
  {
   "cell_type": "code",
   "execution_count": 8,
   "metadata": {
    "vscode": {
     "languageId": "r"
    }
   },
   "outputs": [
    {
     "data": {
      "text/plain": [
       "\n",
       "Call:\n",
       "arima(x = series, order = c(1, 0, 1), method = \"ML\")\n",
       "\n",
       "Coefficients:\n",
       "         ar1      ma1  intercept\n",
       "      0.8262  -0.6124     0.0511\n",
       "s.e.  0.1588   0.2092     0.2611\n",
       "\n",
       "sigma^2 estimated as 1.023:  log likelihood = -103.09,  aic = 214.18"
      ]
     },
     "metadata": {},
     "output_type": "display_data"
    }
   ],
   "source": [
    "arima(series,order=c(1,0,1),method='ML')"
   ]
  },
  {
   "cell_type": "markdown",
   "metadata": {},
   "source": [
    "可知，$\\hat{\\phi}_{ML}= 0.8262\\space , \\space \\hat{\\theta}_{ML} = 0.6124$"
   ]
  },
  {
   "cell_type": "markdown",
   "metadata": {
    "vscode": {
     "languageId": "r"
    }
   },
   "source": [
    "相较而言，这次模拟的偏误算是较大了"
   ]
  },
  {
   "cell_type": "markdown",
   "metadata": {},
   "source": [
    "### (d) \n",
    "在选取相同参数和样本规模的情况下，使用新的模拟序列重复 (a)、(b) 和 (c)，并将本次与前次的模拟结果进行比较。  \n",
    "\n",
    "$\\text{Solution.}$"
   ]
  },
  {
   "cell_type": "code",
   "execution_count": 24,
   "metadata": {
    "vscode": {
     "languageId": "r"
    }
   },
   "outputs": [],
   "source": [
    "# 生成序列\n",
    "set.seed(99993)\n",
    "series=arima.sim(n=n,list(ar=phi,ma=-theta))"
   ]
  },
  {
   "cell_type": "code",
   "execution_count": 25,
   "metadata": {
    "vscode": {
     "languageId": "r"
    }
   },
   "outputs": [
    {
     "data": {
      "text/plain": [
       "\n",
       "Autocorrelations of series 'series', by lag\n",
       "\n",
       "     0      1      2      3      4      5 \n",
       " 1.000  0.355  0.240  0.084  0.130 -0.044 "
      ]
     },
     "metadata": {},
     "output_type": "display_data"
    }
   ],
   "source": [
    "acf(series, lag.max = 5, plot = FALSE)"
   ]
  },
  {
   "cell_type": "code",
   "execution_count": 26,
   "metadata": {
    "vscode": {
     "languageId": "r"
    }
   },
   "outputs": [],
   "source": [
    "r1 = acf(series, lag.max = 5, plot = FALSE)$acf[[2]]\n",
    "r2 = acf(series, lag.max = 5, plot = FALSE)$acf[[3]]"
   ]
  },
  {
   "cell_type": "code",
   "execution_count": 27,
   "metadata": {
    "vscode": {
     "languageId": "r"
    }
   },
   "outputs": [],
   "source": [
    "hat_phi = r2/r1"
   ]
  },
  {
   "cell_type": "code",
   "execution_count": 29,
   "metadata": {
    "vscode": {
     "languageId": "r"
    }
   },
   "outputs": [
    {
     "data": {
      "text/html": [
       "0.677423780427269"
      ],
      "text/latex": [
       "0.677423780427269"
      ],
      "text/markdown": [
       "0.677423780427269"
      ],
      "text/plain": [
       "[1] 0.6774238"
      ]
     },
     "metadata": {},
     "output_type": "display_data"
    }
   ],
   "source": [
    "# 矩估计\n",
    "hat_phi"
   ]
  },
  {
   "cell_type": "code",
   "execution_count": 31,
   "metadata": {
    "vscode": {
     "languageId": "r"
    }
   },
   "outputs": [
    {
     "data": {
      "text/plain": [
       "\n",
       "Call:\n",
       "arima(x = series, order = c(1, 0, 1), method = \"CSS\")\n",
       "\n",
       "Coefficients:\n",
       "         ar1     ma1  intercept\n",
       "      0.3432  0.0202     0.2393\n",
       "s.e.  0.2831  0.2685     0.2052\n",
       "\n",
       "sigma^2 estimated as 1.252:  part log likelihood = -110.25"
      ]
     },
     "metadata": {},
     "output_type": "display_data"
    }
   ],
   "source": [
    "# 最小二乘\n",
    "arima(series,order=c(1,0,1),method='CSS')"
   ]
  },
  {
   "cell_type": "code",
   "execution_count": 33,
   "metadata": {
    "vscode": {
     "languageId": "r"
    }
   },
   "outputs": [
    {
     "data": {
      "text/plain": [
       "\n",
       "Call:\n",
       "arima(x = series, order = c(1, 0, 1), method = \"ML\")\n",
       "\n",
       "Coefficients:\n",
       "         ar1      ma1  intercept\n",
       "      0.5938  -0.2655     0.1959\n",
       "s.e.  0.2292   0.2736     0.2359\n",
       "\n",
       "sigma^2 estimated as 1.257:  log likelihood = -110.49,  aic = 228.97"
      ]
     },
     "metadata": {},
     "output_type": "display_data"
    }
   ],
   "source": [
    "# 极大似然估计\n",
    "arima(series,order=c(1,0,1),method='ML')"
   ]
  },
  {
   "cell_type": "markdown",
   "metadata": {
    "vscode": {
     "languageId": "r"
    }
   },
   "source": [
    "与前一次模拟相比，这一次通过矩估计得到的$\\hat{\\phi}$与理论值相差更小，总的来说两次模拟都还算准确。  \n",
    "\n",
    "然而，通过最小二乘和极大似然估计得到的$\\hat{\\phi}$与理论值并不那么接近，这有点奇怪。  \n",
    "\n",
    "原因可能是多方面的。首先，ARMA(1,1)模型是一个简单的模型，其参数估计可能受到样本规模和噪声的影响。其次，ARMA(1,1)模型的参数估计可能受到模型假设的限制，例如，模型的阶数和参数的约束条件。最后，ARMA(1,1)模型的参数估计可能受到数据集的特性和分布的影响。  "
   ]
  }
 ],
 "metadata": {
  "kernelspec": {
   "display_name": "R",
   "language": "R",
   "name": "ir"
  },
  "language_info": {
   "codemirror_mode": "r",
   "file_extension": ".r",
   "mimetype": "text/x-r-source",
   "name": "R",
   "pygments_lexer": "r",
   "version": "4.3.2"
  }
 },
 "nbformat": 4,
 "nbformat_minor": 2
}
