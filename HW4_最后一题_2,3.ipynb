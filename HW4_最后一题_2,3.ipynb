{
 "cells": [
  {
   "cell_type": "markdown",
   "id": "d8370b66",
   "metadata": {},
   "source": [
    "#### 2)\n",
    "\n",
    "设定 $\\alpha_0 = 0.002,~ \\alpha_1 = 0.25,~ \\beta_1 = 0.35 ,~ h_1 = 0.05,~ d = 4$，生成样本量为 $1000$ 的服从上述 $\\text{GARCH(1,~1)}$过程的序列，并画图。\n",
    "\n",
    "$\\text{Solution.}$"
   ]
  },
  {
   "cell_type": "code",
   "execution_count": 16,
   "id": "133318c3",
   "metadata": {
    "vscode": {
     "languageId": "r"
    }
   },
   "outputs": [
    {
     "data": {
      "image/png": "[encoded data removed]",
      "text/plain": [
       "Plot with title \"GARCH(1,1)序列\""
      ]
     },
     "metadata": {
      "image/png": {
       "height": 420,
       "width": 420
      }
     },
     "output_type": "display_data"
    }
   ],
   "source": [
    "# 设置参数\n",
    "set.seed(123)  # 随机种子确保可重复性\n",
    "n <- 1000      # 样本量\n",
    "alpha0 <- 0.02\n",
    "alpha1 <- 0.25\n",
    "beta1 <- 0.35\n",
    "h1 <- 0.05\n",
    "d <- 4         # t分布自由度\n",
    "\n",
    "# 初始化序列\n",
    "h <- numeric(n)\n",
    "r <- numeric(n)\n",
    "h[1] <- h1\n",
    "r[1] <- sqrt(h1) * rt(1, df = d) / sqrt(d / (d - 2))\n",
    "\n",
    "set.seed(114514)\n",
    "# 生成GARCH(1,1)序列\n",
    "for (t in 2:n) {\n",
    "  h[t] <- alpha0 + beta1 * h[t - 1] + alpha1 * r[t - 1]^2\n",
    "  r[t] <- sqrt(h[t]) * rt(1, df = d) / sqrt(d / (d - 2))\n",
    "}\n",
    "\n",
    "# 绘制时间序列图\n",
    "plot.ts(r, main = \"GARCH(1,1)序列\", xlab = \"时间\", ylab = \"收益率\", col = \"black\")"
   ]
  },
  {
   "cell_type": "markdown",
   "id": "ce99d9a5",
   "metadata": {},
   "source": [
    "#### 3) \n",
    "\n",
    "基于上面这个样本，写一个`R`程序找到 $\\theta$ 的 $\\text{MLE}$ 和相应的标准差。\n",
    "\n",
    "$\\text{Solution.}$"
   ]
  },
  {
   "cell_type": "markdown",
   "id": "a903830d",
   "metadata": {},
   "source": [
    "本题中$\\theta = (\\alpha_0 , \\alpha_1,~ \\beta_1)$，可对序列作如下处理："
   ]
  },
  {
   "cell_type": "code",
   "execution_count": 17,
   "id": "6a832cfb",
   "metadata": {
    "vscode": {
     "languageId": "r"
    }
   },
   "outputs": [
    {
     "name": "stdout",
     "output_type": "stream",
     "text": [
      "\n",
      " ***** ESTIMATION WITH ANALYTICAL GRADIENT ***** \n",
      "\n",
      "\n",
      "     I     INITIAL X(I)        D(I)\n",
      "\n",
      "     1     4.752933e-02     1.000e+00\n",
      "     2     5.000000e-02     1.000e+00\n",
      "     3     5.000000e-02     1.000e+00\n",
      "\n",
      "    IT   NF      F         RELDF    PRELDF    RELDX   STPPAR   D*STEP   NPRELDF\n",
      "     0    1 -9.824e+02\n",
      "     1    5 -9.829e+02  5.13e-04  8.59e-04  1.9e-02  1.9e+05  2.1e-03  8.20e+01\n",
      "     2    8 -9.876e+02  4.69e-03  5.53e-03  2.5e-01  5.3e+00  3.4e-02  2.14e+01\n",
      "     3   12 -9.878e+02  2.18e-04  1.57e-03  2.8e-02  2.3e+00  4.9e-03  5.29e+00\n",
      "     4   13 -9.888e+02  1.08e-03  1.18e-03  2.0e-02  2.0e+00  4.9e-03  3.00e+00\n",
      "     5   17 -1.000e+03  1.15e-02  1.41e-02  3.4e-01  2.0e+00  1.3e-01  2.92e+00\n",
      "     6   18 -1.005e+03  4.55e-03  8.15e-03  3.1e-01  2.0e+00  1.3e-01  2.08e+00\n",
      "     7   19 -1.008e+03  3.09e-03  8.70e-03  1.9e-01  2.0e+00  1.3e-01  1.84e+00\n",
      "     8   21 -1.009e+03  5.78e-04  5.99e-03  6.1e-02  2.0e+00  5.2e-02  9.63e-02\n",
      "     9   22 -1.011e+03  2.16e-03  2.04e-03  3.0e-02  2.0e+00  2.6e-02  1.59e-02\n",
      "    10   24 -1.011e+03  3.84e-05  1.16e-04  1.2e-02  2.0e+00  1.0e-02  4.48e-03\n",
      "    11   26 -1.011e+03  1.77e-04  2.58e-04  3.5e-02  1.7e+00  2.9e-02  1.77e-03\n",
      "    12   27 -1.011e+03  3.51e-04  8.31e-04  3.3e-02  1.7e+00  2.9e-02  7.14e-03\n",
      "    13   28 -1.012e+03  4.88e-04  5.43e-04  3.2e-02  1.1e+00  2.9e-02  8.18e-04\n",
      "    14   29 -1.012e+03  1.13e-04  1.12e-04  3.0e-02  0.0e+00  2.4e-02  1.12e-04\n",
      "    15   30 -1.012e+03  1.98e-06  1.45e-06  2.9e-03  0.0e+00  2.6e-03  1.45e-06\n",
      "    16   31 -1.012e+03  1.00e-07  1.05e-07  7.8e-04  0.0e+00  5.6e-04  1.05e-07\n",
      "    17   32 -1.012e+03  2.44e-09  2.83e-11  1.6e-05  0.0e+00  1.2e-05  2.83e-11\n",
      "    18   33 -1.012e+03 -4.37e-11  8.84e-15  2.6e-07  0.0e+00  1.9e-07  8.84e-15\n",
      "\n",
      " ***** RELATIVE FUNCTION CONVERGENCE *****\n",
      "\n",
      " FUNCTION    -1.012016e+03   RELDX        2.631e-07\n",
      " FUNC. EVALS      33         GRAD. EVALS      18\n",
      " PRELDF       8.841e-15      NPRELDF      8.841e-15\n",
      "\n",
      "     I      FINAL X(I)        D(I)          G(I)\n",
      "\n",
      "     1    1.971048e-02     1.000e+00     1.763e-03\n",
      "     2    3.196469e-01     1.000e+00    -5.410e-06\n",
      "     3    3.554318e-01     1.000e+00     2.046e-05\n",
      "\n"
     ]
    },
    {
     "data": {
      "text/plain": [
       "\n",
       "Call:\n",
       "garch(x = r, order = c(1, 1))\n",
       "\n",
       "Model:\n",
       "GARCH(1,1)\n",
       "\n",
       "Residuals:\n",
       "     Min       1Q   Median       3Q      Max \n",
       "-4.55328 -0.59210 -0.02266  0.48529  7.62490 \n",
       "\n",
       "Coefficient(s):\n",
       "    Estimate  Std. Error  t value Pr(>|t|)    \n",
       "a0  0.019710    0.003095    6.368 1.91e-10 ***\n",
       "a1  0.319647    0.035416    9.025  < 2e-16 ***\n",
       "b1  0.355432    0.072466    4.905 9.35e-07 ***\n",
       "---\n",
       "Signif. codes:  0 '***' 0.001 '**' 0.01 '*' 0.05 '.' 0.1 ' ' 1\n",
       "\n",
       "Diagnostic Tests:\n",
       "\tJarque Bera Test\n",
       "\n",
       "data:  Residuals\n",
       "X-squared = 1621.6, df = 2, p-value < 2.2e-16\n",
       "\n",
       "\n",
       "\tBox-Ljung test\n",
       "\n",
       "data:  Squared.Residuals\n",
       "X-squared = 0.64252, df = 1, p-value = 0.4228\n"
      ]
     },
     "metadata": {},
     "output_type": "display_data"
    }
   ],
   "source": [
    "library(tseries)\n",
    "\n",
    "g1 = garch(r, order = c(1, 1))\n",
    "summary(g1)"
   ]
  },
  {
   "cell_type": "markdown",
   "id": "fec06dd5",
   "metadata": {
    "vscode": {
     "languageId": "r"
    }
   },
   "source": [
    "则：\n",
    "- $\\hat{\\theta}_{MLE} = (\\hat{\\alpha_0},~ \\hat{\\alpha_1},~ \\hat{\\beta_1}) = (0.0197,~ 0.3196,~ 0.3554)$。三个系数的拟合结果都是显著的。\n",
    "- 相应的标准差分别为：$\\hat{\\sigma}_{\\alpha_0} = 0.0031,~ \\hat{\\sigma}_{\\alpha_1} = 0.0354,~ \\hat{\\sigma}_{\\beta_1} = 0.0725$。"
   ]
  }
 ],
 "metadata": {
  "kernelspec": {
   "display_name": "R",
   "language": "R",
   "name": "ir"
  },
  "language_info": {
   "codemirror_mode": "r",
   "file_extension": ".r",
   "mimetype": "text/x-r-source",
   "name": "R",
   "pygments_lexer": "r",
   "version": "4.3.2"
  }
 },
 "nbformat": 4,
 "nbformat_minor": 5
}
