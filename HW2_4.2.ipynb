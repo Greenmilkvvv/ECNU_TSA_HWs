{
 "cells": [
  {
   "cell_type": "markdown",
   "metadata": {},
   "source": [
    "# HW2"
   ]
  },
  {
   "cell_type": "markdown",
   "metadata": {
    "vscode": {
     "languageId": "r"
    }
   },
   "source": [
    "## 4.2 \n",
    "画出以下 MA(2) 模型的自相关函数图，系数设为： "
   ]
  },
  {
   "cell_type": "markdown",
   "metadata": {},
   "source": [
    "### (a) \n",
    "$\\theta_1 = 0.5, \\theta_2 = 0.4$  \n",
    "\n",
    "### (b) \n",
    "$\\theta_1 = 1.2, \\theta_2 = -0.7$  \n",
    "\n",
    "### (c) \n",
    "$\\theta_1 = -1, \\theta_2 = -0.6$  "
   ]
  },
  {
   "cell_type": "code",
   "execution_count": 1,
   "metadata": {
    "vscode": {
     "languageId": "r"
    }
   },
   "outputs": [
    {
     "data": {
      "image/png": "[encoded data removed]",
      "text/plain": [
       "Plot with title \"(c):~MA(2) ~ with ~ theta[1] == -1 ~ and ~ theta[2] == -0.6\""
      ]
     },
     "metadata": {
      "image/png": {
       "height": 420,
       "width": 420
      }
     },
     "output_type": "display_data"
    }
   ],
   "source": [
    "# 加载必要的库\n",
    "library(stats)\n",
    "\n",
    "# 设置随机种子以保证结果可复现\n",
    "set.seed(123)\n",
    "\n",
    "# 定义MA(2)模型的系数\n",
    "theta_a <- c(0.5, 0.4)\n",
    "theta_b <- c(1.2, -0.7)\n",
    "theta_c <- c(-1, -0.6)\n",
    "\n",
    "# 模拟MA(2)模型的时间序列数据\n",
    "ma_a <- arima.sim(model = list(ma = theta_a), n = 100)\n",
    "ma_b <- arima.sim(model = list(ma = theta_b), n = 100)\n",
    "ma_c <- arima.sim(model = list(ma = theta_c), n = 100)\n",
    "\n",
    "par(mfrow = c(3, 1))\n",
    "\n",
    "acf(ma_a, main = expression((a):~MA(2)~with~theta[1] == 0.5~and~theta[2] == 0.4))\n",
    "acf(ma_b, main = expression((b):~MA(2)~with~theta[1] == 1.2~and~theta[2] == -0.7))\n",
    "acf(ma_c, main = expression((c):~MA(2)~with~theta[1] == -1~and~theta[2] == -0.6))"
   ]
  }
 ],
 "metadata": {
  "kernelspec": {
   "display_name": "R",
   "language": "R",
   "name": "ir"
  },
  "language_info": {
   "codemirror_mode": "r",
   "file_extension": ".r",
   "mimetype": "text/x-r-source",
   "name": "R",
   "pygments_lexer": "r",
   "version": "4.3.2"
  }
 },
 "nbformat": 4,
 "nbformat_minor": 2
}
