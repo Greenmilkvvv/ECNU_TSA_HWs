{
 "cells": [
  {
   "cell_type": "markdown",
   "metadata": {},
   "source": [
    "### 7.24 \n",
    "模拟一个 $\\phi_1=1.0$，$\\phi_2=-0.6$，$n=48$ 的 AR(2) 序列，但误差项从有 8 个自由度的卡方分布中抽样得到。"
   ]
  },
  {
   "cell_type": "code",
   "execution_count": 1,
   "metadata": {
    "vscode": {
     "languageId": "r"
    }
   },
   "outputs": [],
   "source": [
    "phi1=1.0\n",
    "phi2=0.6\n",
    "n=48\n",
    "\n",
    "set.seed(114514)\n",
    "series=arima.sim(n=n,list(ar=c(phi1,-phi2)),innov=rchisq(n,8))"
   ]
  },
  {
   "cell_type": "markdown",
   "metadata": {},
   "source": [
    "#### (a) \n",
    "绘出该序列的样本 PACF，建议建立 AR(2) 模型吗？  \n",
    "\n",
    "$\\text{Solution}.$"
   ]
  },
  {
   "cell_type": "code",
   "execution_count": 2,
   "metadata": {
    "vscode": {
     "languageId": "r"
    }
   },
   "outputs": [
    {
     "data": {
      "image/png": "[encoded data removed]",
      "text/plain": [
       "Plot with title \"Series  series\""
      ]
     },
     "metadata": {
      "image/png": {
       "height": 420,
       "width": 420
      }
     },
     "output_type": "display_data"
    }
   ],
   "source": [
    "pacf(series)"
   ]
  },
  {
   "cell_type": "markdown",
   "metadata": {},
   "source": [
    "由图可知，PACF 在 2 阶之后截尾，因此建议建立 AR(2) 模型。"
   ]
  },
  {
   "cell_type": "markdown",
   "metadata": {},
   "source": [
    "#### (b) \n",
    "估计 $\\phi_1$ 和 $\\phi_2$，并解释结果。  \n",
    "\n",
    "$\\text{Solution}.$"
   ]
  },
  {
   "cell_type": "code",
   "execution_count": null,
   "metadata": {
    "vscode": {
     "languageId": "r"
    }
   },
   "outputs": [
    {
     "data": {
      "text/plain": [
       "\n",
       "Call:\n",
       "arima(x = series, order = c(2, 0, 0))\n",
       "\n",
       "Coefficients:\n",
       "         ar1      ar2  intercept\n",
       "      0.9703  -0.6412    12.9186\n",
       "s.e.  0.1091   0.1061     0.8365\n",
       "\n",
       "sigma^2 estimated as 14.8:  log likelihood = -133.52,  aic = 275.05"
      ]
     },
     "metadata": {},
     "output_type": "display_data"
    }
   ],
   "source": [
    "arima(series,order=c(2,0,0))"
   ]
  },
  {
   "cell_type": "markdown",
   "metadata": {},
   "source": [
    "$\\hat{\\phi_1}=0.970 ,\\quad \\hat{\\phi_2}=-0.641 $。  \n",
    "\n",
    "估计值和真实参数较为接近。"
   ]
  },
  {
   "cell_type": "markdown",
   "metadata": {},
   "source": [
    "#### (c) \n",
    "在相同条件下，使用新的模拟序列重复 (a) 和 (b)。  \n",
    "\n",
    "$\\text{Solution}.$"
   ]
  },
  {
   "cell_type": "code",
   "execution_count": 6,
   "metadata": {
    "vscode": {
     "languageId": "r"
    }
   },
   "outputs": [
    {
     "data": {
      "image/png": "[encoded data removed]",
      "text/plain": [
       "Plot with title \"Series  series\""
      ]
     },
     "metadata": {
      "image/png": {
       "height": 420,
       "width": 420
      }
     },
     "output_type": "display_data"
    }
   ],
   "source": [
    "set.seed(10086)\n",
    "series=arima.sim(n=n,list(ar=c(phi1,-phi2)),innov=rchisq(n,8))\n",
    "\n",
    "pacf(series)"
   ]
  },
  {
   "cell_type": "markdown",
   "metadata": {
    "vscode": {
     "languageId": "r"
    }
   },
   "source": [
    "依然符合2阶截尾。"
   ]
  },
  {
   "cell_type": "code",
   "execution_count": 7,
   "metadata": {
    "vscode": {
     "languageId": "r"
    }
   },
   "outputs": [
    {
     "data": {
      "text/plain": [
       "\n",
       "Call:\n",
       "arima(x = series, order = c(2, 0, 0))\n",
       "\n",
       "Coefficients:\n",
       "         ar1      ar2  intercept\n",
       "      0.7626  -0.4924    11.7763\n",
       "s.e.  0.1302   0.1305     0.6350\n",
       "\n",
       "sigma^2 estimated as 10.11:  log likelihood = -124.06,  aic = 256.12"
      ]
     },
     "metadata": {},
     "output_type": "display_data"
    }
   ],
   "source": [
    "arima(series,order=c(2,0,0))"
   ]
  },
  {
   "cell_type": "markdown",
   "metadata": {},
   "source": [
    "可见，尽管仍然暗示着AR(2)模型，但估计的参数和真实参数有较大偏差。"
   ]
  }
 ],
 "metadata": {
  "kernelspec": {
   "display_name": "R",
   "language": "R",
   "name": "ir"
  },
  "language_info": {
   "codemirror_mode": "r",
   "file_extension": ".r",
   "mimetype": "text/x-r-source",
   "name": "R",
   "pygments_lexer": "r",
   "version": "4.3.2"
  }
 },
 "nbformat": 4,
 "nbformat_minor": 2
}
